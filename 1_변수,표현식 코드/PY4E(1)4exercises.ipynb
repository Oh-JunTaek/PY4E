{
 "cells": [
  {
   "cell_type": "markdown",
   "id": "50c2fac8-79aa-47b8-9c92-aacf591d42fe",
   "metadata": {},
   "source": [
    "# 문제2\r\n",
    "## Write a progam to prompt the user for hours and rate per hour to compute gross pay\n",
    "1. Enter Hours : \n",
    "2. Enter Rate : \n",
    "3. pay :\n",
    "4. 시간과 시급을 입력받아 pay로 출력하기."
   ]
  },
  {
   "cell_type": "code",
   "execution_count": 8,
   "id": "6e728f9e-8310-409e-b7ca-ae76c23f631a",
   "metadata": {},
   "outputs": [
    {
     "name": "stdin",
     "output_type": "stream",
     "text": [
      "Enter Hours 3\n",
      "Enter Rate 3\n"
     ]
    },
    {
     "ename": "TypeError",
     "evalue": "can't multiply sequence by non-int of type 'str'",
     "output_type": "error",
     "traceback": [
      "\u001b[1;31m---------------------------------------------------------------------------\u001b[0m",
      "\u001b[1;31mTypeError\u001b[0m                                 Traceback (most recent call last)",
      "Cell \u001b[1;32mIn[8], line 3\u001b[0m\n\u001b[0;32m      1\u001b[0m hour \u001b[38;5;241m=\u001b[39m \u001b[38;5;28minput\u001b[39m(\u001b[38;5;124m'\u001b[39m\u001b[38;5;124mEnter Hours\u001b[39m\u001b[38;5;124m'\u001b[39m)\n\u001b[0;32m      2\u001b[0m rate \u001b[38;5;241m=\u001b[39m \u001b[38;5;28minput\u001b[39m(\u001b[38;5;124m'\u001b[39m\u001b[38;5;124mEnter Rate\u001b[39m\u001b[38;5;124m'\u001b[39m)\n\u001b[1;32m----> 3\u001b[0m \u001b[38;5;28mprint\u001b[39m(hour \u001b[38;5;241m*\u001b[39m rate)\n",
      "\u001b[1;31mTypeError\u001b[0m: can't multiply sequence by non-int of type 'str'"
     ]
    }
   ],
   "source": [
    "hour = input('Enter Hours')\n",
    "rate = input('Enter Rate')\n",
    "print(hour * rate)"
   ]
  },
  {
   "cell_type": "code",
   "execution_count": 10,
   "id": "e50c240c-4d06-45fc-8d75-3c8742217930",
   "metadata": {},
   "outputs": [
    {
     "name": "stdin",
     "output_type": "stream",
     "text": [
      "Enter Hours 3\n",
      "Enter Rate 3\n"
     ]
    },
    {
     "ename": "TypeError",
     "evalue": "can't multiply sequence by non-int of type 'str'",
     "output_type": "error",
     "traceback": [
      "\u001b[1;31m---------------------------------------------------------------------------\u001b[0m",
      "\u001b[1;31mTypeError\u001b[0m                                 Traceback (most recent call last)",
      "Cell \u001b[1;32mIn[10], line 5\u001b[0m\n\u001b[0;32m      3\u001b[0m rate \u001b[38;5;241m=\u001b[39m \u001b[38;5;28minput\u001b[39m(\u001b[38;5;124m'\u001b[39m\u001b[38;5;124mEnter Rate\u001b[39m\u001b[38;5;124m'\u001b[39m)\n\u001b[0;32m      4\u001b[0m \u001b[38;5;28mtype\u001b[39m \u001b[38;5;241m=\u001b[39m \u001b[38;5;28mint\u001b[39m(rate)\n\u001b[1;32m----> 5\u001b[0m \u001b[38;5;28mprint\u001b[39m(hour \u001b[38;5;241m*\u001b[39m rate)\n",
      "\u001b[1;31mTypeError\u001b[0m: can't multiply sequence by non-int of type 'str'"
     ]
    }
   ],
   "source": [
    "hour = input('Enter Hours')\n",
    "type = int(hour)\n",
    "rate = input('Enter Rate')\n",
    "type = int(rate)\n",
    "print(hour * rate)"
   ]
  },
  {
   "cell_type": "markdown",
   "id": "74163e22-a0d1-4dc2-abc0-d4dcee41f543",
   "metadata": {},
   "source": [
    "hour = float(input('Enter Hours: '))\n",
    "rate = float(input('Enter Rate: '))\n",
    "pay = hour * rate\n",
    "print('pay:', pay)"
   ]
  },
  {
   "cell_type": "markdown",
   "id": "d0b1a569-b433-41be-877f-70bbbd1aa3a1",
   "metadata": {},
   "source": [
    "# 풀이\n",
    "## 첫 번째 풀이는 입력이 int가아닌 str로 값이 저장되었다.\n",
    "## 두 번째 풀이는 입력받은값을 int로 저장하는 처리방법이 잘못되었다. + pay를 따로 변수지정한다.\n",
    "1. input() 함수로 시간과 시급을 입력받습니다.\n",
    "2. float() 함수를 사용하여 입력받은 문자열을 실수 형태로 변환합니다.\n",
    "3. 시간과 시급을 곱하여 총 급여를 계산합니다.\n",
    "4. 계산된 총 급여를 print() 함수로 출력합니다.\n",
    "### print(pay) vs print('pay:' , pay)\n",
    "1. 출력된 값이 어떤 계산값인지 알기 편하게 하기 위함.\n",
    "2. ','를 활용한 여러 값 출력"
   ]
  },
  {
   "cell_type": "code",
   "execution_count": null,
   "id": "a95326f8-c8ac-4e30-aaa1-65e6a18a900e",
   "metadata": {},
   "outputs": [],
   "source": []
  }
 ],
 "metadata": {
  "kernelspec": {
   "display_name": "Python 3 (ipykernel)",
   "language": "python",
   "name": "python3"
  },
  "language_info": {
   "codemirror_mode": {
    "name": "ipython",
    "version": 3
   },
   "file_extension": ".py",
   "mimetype": "text/x-python",
   "name": "python",
   "nbconvert_exporter": "python",
   "pygments_lexer": "ipython3",
   "version": "3.11.5"
  }
 },
 "nbformat": 4,
 "nbformat_minor": 5
}
