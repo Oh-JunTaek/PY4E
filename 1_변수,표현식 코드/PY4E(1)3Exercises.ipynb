{
 "cells": [
  {
   "cell_type": "markdown",
   "id": "9816a539-b5d5-4777-b15a-4c034c7a758e",
   "metadata": {},
   "source": [
    "# 문제 1\n",
    "## Write a program  uses input to prompt a user for their name and then welcomes them."
   ]
  },
  {
   "cell_type": "code",
   "execution_count": 10,
   "id": "2c81563b-e205-489d-8dcf-976c999524d5",
   "metadata": {},
   "outputs": [
    {
     "name": "stdin",
     "output_type": "stream",
     "text": [
      "Enter Your Name Eunma\n"
     ]
    },
    {
     "name": "stdout",
     "output_type": "stream",
     "text": [
      "hello Eunma\n"
     ]
    }
   ],
   "source": [
    "username = input('Enter Your Name')\n",
    "print('hello', username)"
   ]
  },
  {
   "cell_type": "markdown",
   "id": "4becb29d-70a8-4ed1-a95b-ee48543290ba",
   "metadata": {},
   "source": [
    "# 풀이\n",
    "1. 이름을 입력받고 환영메시지를 송출하는 코드를 작성후 파이썬 파일로 저장한다.(ex-welcome.py)\n",
    "2. 터미널에서 run welcome.py"
   ]
  },
  {
   "cell_type": "code",
   "execution_count": null,
   "id": "418c187b-1dea-4d71-9e53-e23ce6643666",
   "metadata": {},
   "outputs": [],
   "source": []
  }
 ],
 "metadata": {
  "kernelspec": {
   "display_name": "Python 3 (ipykernel)",
   "language": "python",
   "name": "python3"
  },
  "language_info": {
   "codemirror_mode": {
    "name": "ipython",
    "version": 3
   },
   "file_extension": ".py",
   "mimetype": "text/x-python",
   "name": "python",
   "nbconvert_exporter": "python",
   "pygments_lexer": "ipython3",
   "version": "3.11.5"
  }
 },
 "nbformat": 4,
 "nbformat_minor": 5
}
